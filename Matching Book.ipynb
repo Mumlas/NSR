{
 "cells": [
  {
   "cell_type": "markdown",
   "metadata": {},
   "source": [
    "# Matching NSR with Mined Datasets"
   ]
  },
  {
   "cell_type": "code",
   "execution_count": 1,
   "metadata": {},
   "outputs": [],
   "source": [
    "import matplotlib.pyplot as plt\n",
    "import pyreadstat as ps\n",
    "import pandas as pd\n",
    "import os"
   ]
  },
  {
   "cell_type": "markdown",
   "metadata": {},
   "source": [
    "## Reading Master Record"
   ]
  },
  {
   "cell_type": "code",
   "execution_count": null,
   "metadata": {},
   "outputs": [],
   "source": []
  },
  {
   "cell_type": "code",
   "execution_count": 2,
   "metadata": {},
   "outputs": [],
   "source": [
    "os.chdir(r'D:\\NSR')"
   ]
  },
  {
   "cell_type": "code",
   "execution_count": 3,
   "metadata": {},
   "outputs": [],
   "source": [
    "file = \"NSR_31_MAR_2021.dta\""
   ]
  },
  {
   "cell_type": "code",
   "execution_count": 4,
   "metadata": {},
   "outputs": [
    {
     "ename": "TypeError",
     "evalue": "read_stata() got an unexpected keyword argument 'encoding'",
     "output_type": "error",
     "traceback": [
      "\u001b[1;31m---------------------------------------------------------------------------\u001b[0m",
      "\u001b[1;31mTypeError\u001b[0m                                 Traceback (most recent call last)",
      "\u001b[1;32m<ipython-input-4-440d103806c6>\u001b[0m in \u001b[0;36m<module>\u001b[1;34m\u001b[0m\n\u001b[0;32m      8\u001b[0m \u001b[1;33m\u001b[0m\u001b[0m\n\u001b[0;32m      9\u001b[0m data = pd.read_stata(file, convert_dates=True, convert_categoricals=True, index_col = index, \n\u001b[1;32m---> 10\u001b[1;33m                      preserve_dtypes=True, columns=cols, order_categoricals=True, encoding='latin-1')\n\u001b[0m",
      "\u001b[1;31mTypeError\u001b[0m: read_stata() got an unexpected keyword argument 'encoding'"
     ]
    }
   ],
   "source": [
    "cols = ['hhmnsrrno','hhnsrrno', 'hhh_surname','hhh_firstname','hhh_othername',\n",
    "        'state','lga','ward','m_name','relationship','sex','dob','agey',\n",
    "        'decile','batchno','legacyid','submissionid','geopointlatitude','geopointlongitude']\n",
    "\n",
    "index = 'hhmnsrrno'\n",
    "\n",
    "#data = ps.read_dta(file, apply_value_formats= True, formats_as_ordered_category=True,usecols=cols,row_limit=1000)\n",
    "\n",
    "data = pd.read_stata(file, convert_dates=True, convert_categoricals=True, index_col = index, \n",
    "                     preserve_dtypes=True, columns=cols, order_categoricals=True, encoding='latin-1')"
   ]
  },
  {
   "cell_type": "code",
   "execution_count": null,
   "metadata": {},
   "outputs": [],
   "source": []
  },
  {
   "cell_type": "code",
   "execution_count": null,
   "metadata": {},
   "outputs": [],
   "source": [
    "import chardet\n",
    "import pandas as pd\n",
    "\n",
    "def find_encoding(fname):\n",
    "    r_file = open(fname, 'rb').read()\n",
    "    result = chardet.detect(r_file)\n",
    "    charenc = result['encoding']\n",
    "    return charenc"
   ]
  },
  {
   "cell_type": "code",
   "execution_count": null,
   "metadata": {},
   "outputs": [],
   "source": []
  },
  {
   "cell_type": "markdown",
   "metadata": {},
   "source": [
    "### Code #1: Restrict CPU time"
   ]
  },
  {
   "cell_type": "code",
   "execution_count": null,
   "metadata": {},
   "outputs": [],
   "source": [
    "# importing libraries \n",
    "import signal \n",
    "import resource \n",
    "import os \n",
    " \n",
    "# checking time limit exceed \n",
    "def time_exceeded(signo, frame): \n",
    "    print(\"Time's up !\") \n",
    "    raise SystemExit(1) \n",
    " \n",
    "def set_max_runtime(seconds): \n",
    "    # setting up the resource limit \n",
    "    soft, hard = resource.getrlimit(resource.RLIMIT_CPU) \n",
    "    resource.setrlimit(resource.RLIMIT_CPU, (seconds, hard)) \n",
    "    signal.signal(signal.SIGXCPU, time_exceeded) \n",
    " \n",
    "# max run time of 15 millisecond \n",
    "if __name__ == '__main__': \n",
    "    set_max_runtime(15) \n",
    "    while True: \n",
    "        pass"
   ]
  },
  {
   "cell_type": "markdown",
   "metadata": {},
   "source": [
    "### Code #2: In order to restrict memory use, the code puts a limit on the total address space"
   ]
  },
  {
   "cell_type": "code",
   "execution_count": null,
   "metadata": {},
   "outputs": [],
   "source": [
    "# using resource \n",
    "import resource \n",
    " \n",
    "def limit_memory(maxsize): \n",
    "    soft, hard = resource.getrlimit(resource.RLIMIT_AS) \n",
    "    resource.setrlimit(resource.RLIMIT_AS, (maxsize, hard))"
   ]
  },
  {
   "cell_type": "markdown",
   "metadata": {},
   "source": [
    "## Reading Multiple Excel sheets"
   ]
  },
  {
   "cell_type": "code",
   "execution_count": null,
   "metadata": {},
   "outputs": [],
   "source": [
    "os.chdir(r'D:\\NCTO\\NBR')"
   ]
  },
  {
   "cell_type": "code",
   "execution_count": null,
   "metadata": {},
   "outputs": [],
   "source": [
    "file =\"NBR_Enrolled.xlsx\""
   ]
  },
  {
   "cell_type": "code",
   "execution_count": null,
   "metadata": {},
   "outputs": [],
   "source": [
    "data = pd.ExcelFile(file)"
   ]
  },
  {
   "cell_type": "code",
   "execution_count": null,
   "metadata": {},
   "outputs": [],
   "source": [
    "%%time\n",
    "# Option 1: Using lists of dataframe\n",
    "lists = []\n",
    "for sheet in data.sheet_names:\n",
    "    df = pd.read_excel(data,sheet_name=sheet)\n",
    "    lists.append(df)\n",
    "dfs = pd.concat(lists)\n",
    "dfs['State'].value_counts()"
   ]
  },
  {
   "cell_type": "code",
   "execution_count": null,
   "metadata": {
    "scrolled": false
   },
   "outputs": [],
   "source": [
    "%%time\n",
    "# Option 2: Using empty dataframe\n",
    "dfs = pd.DataFrame()\n",
    "for sheet in data.sheet_names:\n",
    "    df = pd.read_excel(data,sheet_name=sheet)\n",
    "    dfs = dfs.append(df)\n",
    "dfs['State'].value_counts()"
   ]
  },
  {
   "cell_type": "markdown",
   "metadata": {},
   "source": [
    "## Read multiple Excels into single DataFrame"
   ]
  },
  {
   "cell_type": "code",
   "execution_count": null,
   "metadata": {},
   "outputs": [],
   "source": [
    "os.chdir(r'D:\\NCTO\\Payment\\Xcel\\Paid\\List of paid beneficiaries for jan-feb and Mar-Apr 2020')\n",
    "path = os.getcwd()"
   ]
  },
  {
   "cell_type": "code",
   "execution_count": null,
   "metadata": {},
   "outputs": [],
   "source": [
    "dfs = pd.DataFrame()\n",
    "for file in os.listdir(path):\n",
    "    df = pd.read_excel(file)\n",
    "    dfs = dfs.append(df)"
   ]
  },
  {
   "cell_type": "code",
   "execution_count": null,
   "metadata": {},
   "outputs": [],
   "source": [
    "dfs['Period'] = dfs['Period'].str.lower()\n",
    "dfs['State'] = dfs['State'].str.upper()\n",
    "dfs['LGA'] = dfs['LGA'].str.upper()\n",
    "dfs['Ward'] = dfs['Ward'].str.upper()\n",
    "dfs['Community'] = dfs['Community'].str.upper()\n",
    "dfs['Beneficiary Name'] = dfs['Beneficiary Name'].str.title()\n"
   ]
  },
  {
   "cell_type": "code",
   "execution_count": null,
   "metadata": {},
   "outputs": [],
   "source": [
    "dfs['State'].value_counts()"
   ]
  },
  {
   "cell_type": "code",
   "execution_count": null,
   "metadata": {
    "scrolled": true
   },
   "outputs": [],
   "source": []
  },
  {
   "cell_type": "code",
   "execution_count": null,
   "metadata": {},
   "outputs": [],
   "source": []
  },
  {
   "cell_type": "code",
   "execution_count": null,
   "metadata": {},
   "outputs": [],
   "source": []
  }
 ],
 "metadata": {
  "kernelspec": {
   "display_name": "Python 3",
   "language": "python",
   "name": "python3"
  },
  "language_info": {
   "codemirror_mode": {
    "name": "ipython",
    "version": 3
   },
   "file_extension": ".py",
   "mimetype": "text/x-python",
   "name": "python",
   "nbconvert_exporter": "python",
   "pygments_lexer": "ipython3",
   "version": "3.7.6"
  }
 },
 "nbformat": 4,
 "nbformat_minor": 4
}
